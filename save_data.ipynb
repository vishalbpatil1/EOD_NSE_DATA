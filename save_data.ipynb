{
 "cells": [
  {
   "cell_type": "code",
   "execution_count": 1,
   "metadata": {},
   "outputs": [],
   "source": [
    "from nsetools import Nse\n",
    "import datetime\n",
    "import pandas as pd\n",
    "nse= Nse()\n",
    "x=datetime.datetime.now()\n",
    "date_=str(x.day)+'-'+str(x.month)+'-'+str(x.year)"
   ]
  },
  {
   "cell_type": "code",
   "execution_count": 3,
   "metadata": {},
   "outputs": [],
   "source": [
    "# top 10 gainers\n",
    "top_gainers = nse.get_top_gainers()\n",
    "symbol=[]\n",
    "open_=[]\n",
    "high_=[]\n",
    "low_=[]\n",
    "Q=[]\n",
    "for result in top_gainers:\n",
    "    symbol.append(result['symbol'])\n",
    "    open_.append(result['openPrice'])\n",
    "    high_.append(result['highPrice'])\n",
    "    low_.append(result['lowPrice'])\n",
    "    Q.append(result['tradedQuantity'])\n",
    "df=pd.DataFrame()\n",
    "df['Symbol']=symbol\n",
    "df['Open']=open_\n",
    "df['High']=high_\n",
    "df['Low']=low_\n",
    "df['traded Quantity']=Q\n",
    "df.to_csv(date_+'-gainers.csv')"
   ]
  },
  {
   "cell_type": "code",
   "execution_count": null,
   "metadata": {},
   "outputs": [],
   "source": []
  },
  {
   "cell_type": "code",
   "execution_count": 2,
   "metadata": {},
   "outputs": [],
   "source": [
    "# top 10  lossers \n",
    "top_losser = nse.get_top_losers()\n",
    "symbol=[]\n",
    "open_=[]\n",
    "high_=[]\n",
    "low_=[]\n",
    "Q=[]\n",
    "for result in top_losser:\n",
    "    symbol.append(result['symbol'])\n",
    "    open_.append(result['openPrice'])\n",
    "    high_.append(result['highPrice'])\n",
    "    low_.append(result['lowPrice'])\n",
    "    Q.append(result['tradedQuantity'])\n",
    "df=pd.DataFrame()\n",
    "df['Symbol']=symbol\n",
    "df['Open']=open_\n",
    "df['High']=high_\n",
    "df['Low']=low_\n",
    "df['traded Quantity']=Q\n",
    "df.to_csv(date_+'-lossers.csv')"
   ]
  },
  {
   "cell_type": "code",
   "execution_count": 4,
   "metadata": {},
   "outputs": [],
   "source": [
    "# pre open market data\n",
    "pre_open=nse.get_preopen_nifty()\n",
    "symbol=[]\n",
    "prev_close=[]\n",
    "iep_price=[]\n",
    "change=[]\n",
    "pre_change=[]\n",
    "tread_quintity=[]\n",
    "high=[]\n",
    "Low=[]\n",
    "for result in pre_open:\n",
    "    symbol.append(result['symbol'])\n",
    "    prev_close.append(result['pCls'])\n",
    "    iep_price.append(result['iep'])\n",
    "    change.append(result['chn'])\n",
    "    pre_change.append(result['perChn'])\n",
    "    tread_quintity.append(result['trdQnty'])   \n",
    "    high.append(result['yHigh'])\n",
    "    Low.append(result['yLow'])\n",
    "df=pd.DataFrame()\n",
    "df['Symbol']=symbol\n",
    "df['Prev close']=prev_close\n",
    "df['IEP price']=iep_price\n",
    "df['Change']=change\n",
    "df['High']=high\n",
    "df['Low']=Low\n",
    "df['tread_quintity']=tread_quintity\n",
    "df.to_csv(date_+'-pre_open_market.csv')"
   ]
  },
  {
   "cell_type": "code",
   "execution_count": 3,
   "metadata": {},
   "outputs": [],
   "source": [
    "#  bank pre open nifty \n",
    "pre_open_bank_nifty=nse.get_preopen_niftybank()\n",
    "symbol=[]\n",
    "prev_close=[]\n",
    "iep_price=[]\n",
    "change=[]\n",
    "pre_change=[]\n",
    "tread_quintity=[]\n",
    "high=[]\n",
    "Low=[]\n",
    "for result in pre_open_bank_nifty:\n",
    "    symbol.append(result['symbol'])\n",
    "    prev_close.append(result['pCls'])\n",
    "    iep_price.append(result['iep'])\n",
    "    change.append(result['chn'])\n",
    "    pre_change.append(result['perChn'])\n",
    "    tread_quintity.append(result['trdQnty'])   \n",
    "    high.append(result['yHigh'])\n",
    "    Low.append(result['yLow'])\n",
    "df=pd.DataFrame()\n",
    "df['Symbol']=symbol\n",
    "df['Prev close']=prev_close\n",
    "df['IEP price']=iep_price\n",
    "df['Change']=change\n",
    "df['High']=high\n",
    "df['Low']=Low\n",
    "df['tread_quintity']=tread_quintity\n",
    "df.to_csv(date_+'-pre_open_niftybank.csv')"
   ]
  },
  {
   "cell_type": "code",
   "execution_count": null,
   "metadata": {},
   "outputs": [],
   "source": []
  },
  {
   "cell_type": "code",
   "execution_count": null,
   "metadata": {},
   "outputs": [],
   "source": []
  },
  {
   "cell_type": "code",
   "execution_count": null,
   "metadata": {},
   "outputs": [],
   "source": []
  }
 ],
 "metadata": {
  "kernelspec": {
   "display_name": "Python 3",
   "language": "python",
   "name": "python3"
  },
  "language_info": {
   "codemirror_mode": {
    "name": "ipython",
    "version": 3
   },
   "file_extension": ".py",
   "mimetype": "text/x-python",
   "name": "python",
   "nbconvert_exporter": "python",
   "pygments_lexer": "ipython3",
   "version": "3.8.5"
  }
 },
 "nbformat": 4,
 "nbformat_minor": 4
}
